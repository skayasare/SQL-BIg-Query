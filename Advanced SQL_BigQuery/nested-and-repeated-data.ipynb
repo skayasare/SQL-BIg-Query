{
 "cells": [
  {
   "cell_type": "markdown",
   "id": "1b2b3bb5",
   "metadata": {
    "papermill": {
     "duration": 0.004156,
     "end_time": "2023-04-20T18:14:15.678404",
     "exception": false,
     "start_time": "2023-04-20T18:14:15.674248",
     "status": "completed"
    },
    "tags": []
   },
   "source": [
    "# Introduction\n",
    "\n",
    "So far, you've worked with many types of data, including numeric types (integers, floating point values), strings, and the [DATETIME](https://www.kaggle.com/dansbecker/order-by) type.  In this tutorial, you'll learn how to query **nested and repeated data**.  These are the most complex data types that you can find in BigQuery datasets! \n",
    "\n",
    "# Nested data\n",
    "\n",
    "Consider a hypothetical dataset containing information about pets and their toys.  We could organize this information in two different tables (a `pets` table and a `toys` table).  The `toys` table could contain a \"Pet_ID\" column that could be used to match each toy to the pet that owns it.\n",
    "\n",
    "Another option in BigQuery is to organize all of the information in a single table, similar to the `pets_and_toys` table below.  \n",
    "\n",
    "![nested data](https://storage.googleapis.com/kaggle-media/learn/images/wxuogYA.png)\n",
    "\n",
    "In this case, all of the information from the `toys` table is collapsed into a single column (the \"Toy\" column in the `pets_and_toys` table).  We refer to the \"Toy\" column in the `pets_and_toys` table as a **nested** column, and say that the \"Name\" and \"Type\" fields are nested inside of it.  \n",
    "\n",
    "Nested columns have type **STRUCT** (or type **RECORD**).  This is reflected in the table schema below.\n",
    "> Recall that we refer to the structure of a table as its **schema**.  If you need to review how to interpret table schema, feel free to check out [this lesson](https://www.kaggle.com/dansbecker/getting-started-with-sql-and-bigquery) from the Intro to SQL micro-course.\n",
    "\n",
    "![nested data](https://storage.googleapis.com/kaggle-media/learn/images/epXFXdb.png)\n",
    "\n",
    "To query a column with nested data, we need to identify each field in the context of the column that contains it: \n",
    "- `Toy.Name` refers to the \"Name\" field in the \"Toy\" column, and\n",
    "- `Toy.Type` refers to the \"Type\" field in the \"Toy\" column.  \n",
    "\n",
    "![nested data](https://storage.googleapis.com/kaggle-media/learn/images/eE2Gt62.png)\n",
    "\n",
    "Otherwise, our usual rules remain the same - we need not change anything else about our queries.\n",
    "\n",
    "# Repeated data \n",
    "\n",
    "Now consider the (more realistic!) case where each pet can have multiple toys.  In this case, to collapse this information into a single table, we need to leverage a different datatype.\n",
    "\n",
    "![repeated data](https://storage.googleapis.com/kaggle-media/learn/images/S93FJTE.png)\n",
    "\n",
    "We say that the \"Toys\" column contains **repeated data**, because it permits more than one value for each row.  This is reflected in the table schema below, where the mode of the \"Toys\" column appears as **'REPEATED'**.\n",
    "\n",
    "![repeated data](https://storage.googleapis.com/kaggle-media/learn/images/KlrjpDM.png)\n",
    "\n",
    "Each entry in a repeated field is an **ARRAY**, or an ordered list of (zero or more) values with the same datatype.  For instance, the entry in the \"Toys\" column for Moon the Dog is **[Frisbee, Bone, Rope]**, which is an ARRAY with three values.\n",
    "\n",
    "When querying repeated data, we need to put the name of the column containing the repeated data inside an **UNNEST()** function.  \n",
    "\n",
    "![repeated data](https://storage.googleapis.com/kaggle-media/learn/images/p3fXPxY.png)\n",
    "\n",
    "This essentially flattens the repeated data (which is then appended to the right side of the table) so that we have one element on each row.  For an illustration of this, check out the image below.\n",
    "\n",
    "![repeated data](https://storage.googleapis.com/kaggle-media/learn/images/8j4XK8f.png)\n",
    "\n",
    "# Nested and repeated data\n",
    "\n",
    "Now, what if pets can have multiple toys, _and_ we'd like to keep track of both the name and type of each toy?  In this case, we can make the \"Toys\" column both **nested** and **repeated**.\n",
    "\n",
    "![repeated data](https://storage.googleapis.com/kaggle-media/learn/images/psKtza2.png)\n",
    "\n",
    "In the `more_pets_and_toys` table above, \"Name\" and \"Type\" are both fields contained within the \"Toys\" STRUCT, and each entry in both \"Toys.Name\" and \"Toys.Type\" is an ARRAY.\n",
    "\n",
    "![repeated data](https://storage.googleapis.com/kaggle-media/learn/images/fO5OymI.png)\n",
    "\n",
    "Let's look at a sample query.\n",
    "\n",
    "![repeated data](https://storage.googleapis.com/kaggle-media/learn/images/DiMCZaO.png)\n",
    "\n",
    "Since the \"Toys\" column is repeated, we flatten it with the **UNNEST()** function.  And, since we give the flattened column an alias of `t`, we can refer to the \"Name\" and \"Type\" fields in the \"Toys\" column as `t.Name` and `t.Type`, respectively.  \n",
    "\n",
    "To reinforce what you've learned, we'll apply these ideas to a real dataset in the section below."
   ]
  },
  {
   "cell_type": "markdown",
   "id": "5bda13cb",
   "metadata": {
    "papermill": {
     "duration": 0.002799,
     "end_time": "2023-04-20T18:14:15.684620",
     "exception": false,
     "start_time": "2023-04-20T18:14:15.681821",
     "status": "completed"
    },
    "tags": []
   },
   "source": [
    "# Example\n",
    "\n",
    "We'll work with the [Google Analytics Sample](https://www.kaggle.com/bigquery/google-analytics-sample) dataset.  It contains information tracking the behavior of visitors to the Google Merchandise store, an e-commerce website that sells Google branded items.\n",
    "\n",
    "We begin by printing the first few rows of the `ga_sessions_20170801` table.  (_We have hidden the corresponding code.  To take a peek, click on the \"Code\" button below._)  This table tracks visits to the website on August 1, 2017.  "
   ]
  },
  {
   "cell_type": "code",
   "execution_count": 1,
   "id": "4826df68",
   "metadata": {
    "_kg_hide-input": true,
    "execution": {
     "iopub.execute_input": "2023-04-20T18:14:15.693573Z",
     "iopub.status.busy": "2023-04-20T18:14:15.692688Z",
     "iopub.status.idle": "2023-04-20T18:14:16.518361Z",
     "shell.execute_reply": "2023-04-20T18:14:16.517165Z"
    },
    "papermill": {
     "duration": 0.833335,
     "end_time": "2023-04-20T18:14:16.520987",
     "exception": false,
     "start_time": "2023-04-20T18:14:15.687652",
     "status": "completed"
    },
    "tags": []
   },
   "outputs": [
    {
     "name": "stdout",
     "output_type": "stream",
     "text": [
      "Using Kaggle's public dataset BigQuery integration.\n"
     ]
    },
    {
     "name": "stderr",
     "output_type": "stream",
     "text": [
      "/opt/conda/lib/python3.7/site-packages/ipykernel_launcher.py:16: UserWarning: Cannot use bqstorage_client if max_results is set, reverting to fetching data with the tabledata.list endpoint.\n",
      "  \n"
     ]
    },
    {
     "data": {
      "text/html": [
       "<div>\n",
       "<style scoped>\n",
       "    .dataframe tbody tr th:only-of-type {\n",
       "        vertical-align: middle;\n",
       "    }\n",
       "\n",
       "    .dataframe tbody tr th {\n",
       "        vertical-align: top;\n",
       "    }\n",
       "\n",
       "    .dataframe thead th {\n",
       "        text-align: right;\n",
       "    }\n",
       "</style>\n",
       "<table border=\"1\" class=\"dataframe\">\n",
       "  <thead>\n",
       "    <tr style=\"text-align: right;\">\n",
       "      <th></th>\n",
       "      <th>visitorId</th>\n",
       "      <th>visitNumber</th>\n",
       "      <th>visitId</th>\n",
       "      <th>visitStartTime</th>\n",
       "      <th>date</th>\n",
       "      <th>totals</th>\n",
       "      <th>trafficSource</th>\n",
       "      <th>device</th>\n",
       "      <th>geoNetwork</th>\n",
       "      <th>customDimensions</th>\n",
       "      <th>hits</th>\n",
       "      <th>fullVisitorId</th>\n",
       "      <th>userId</th>\n",
       "      <th>clientId</th>\n",
       "      <th>channelGrouping</th>\n",
       "      <th>socialEngagementType</th>\n",
       "    </tr>\n",
       "  </thead>\n",
       "  <tbody>\n",
       "    <tr>\n",
       "      <th>0</th>\n",
       "      <td>NaN</td>\n",
       "      <td>1</td>\n",
       "      <td>1501591568</td>\n",
       "      <td>1501591568</td>\n",
       "      <td>20170801</td>\n",
       "      <td>{'visits': 1, 'hits': 1, 'pageviews': 1, 'time...</td>\n",
       "      <td>{'referralPath': None, 'campaign': '(not set)'...</td>\n",
       "      <td>{'browser': 'Chrome', 'browserVersion': 'not a...</td>\n",
       "      <td>{'continent': 'Europe', 'subContinent': 'South...</td>\n",
       "      <td>[]</td>\n",
       "      <td>[{'hitNumber': 1, 'time': 0, 'hour': 5, 'minut...</td>\n",
       "      <td>3418334011779872055</td>\n",
       "      <td>None</td>\n",
       "      <td>None</td>\n",
       "      <td>Organic Search</td>\n",
       "      <td>Not Socially Engaged</td>\n",
       "    </tr>\n",
       "    <tr>\n",
       "      <th>1</th>\n",
       "      <td>NaN</td>\n",
       "      <td>2</td>\n",
       "      <td>1501589647</td>\n",
       "      <td>1501589647</td>\n",
       "      <td>20170801</td>\n",
       "      <td>{'visits': 1, 'hits': 1, 'pageviews': 1, 'time...</td>\n",
       "      <td>{'referralPath': '/analytics/web/', 'campaign'...</td>\n",
       "      <td>{'browser': 'Chrome', 'browserVersion': 'not a...</td>\n",
       "      <td>{'continent': 'Asia', 'subContinent': 'Souther...</td>\n",
       "      <td>[{'index': 4, 'value': 'APAC'}]</td>\n",
       "      <td>[{'hitNumber': 1, 'time': 0, 'hour': 5, 'minut...</td>\n",
       "      <td>2474397855041322408</td>\n",
       "      <td>None</td>\n",
       "      <td>None</td>\n",
       "      <td>Referral</td>\n",
       "      <td>Not Socially Engaged</td>\n",
       "    </tr>\n",
       "    <tr>\n",
       "      <th>2</th>\n",
       "      <td>NaN</td>\n",
       "      <td>1</td>\n",
       "      <td>1501616621</td>\n",
       "      <td>1501616621</td>\n",
       "      <td>20170801</td>\n",
       "      <td>{'visits': 1, 'hits': 1, 'pageviews': 1, 'time...</td>\n",
       "      <td>{'referralPath': '/analytics/web/', 'campaign'...</td>\n",
       "      <td>{'browser': 'Chrome', 'browserVersion': 'not a...</td>\n",
       "      <td>{'continent': 'Europe', 'subContinent': 'North...</td>\n",
       "      <td>[{'index': 4, 'value': 'EMEA'}]</td>\n",
       "      <td>[{'hitNumber': 1, 'time': 0, 'hour': 12, 'minu...</td>\n",
       "      <td>5870462820713110108</td>\n",
       "      <td>None</td>\n",
       "      <td>None</td>\n",
       "      <td>Referral</td>\n",
       "      <td>Not Socially Engaged</td>\n",
       "    </tr>\n",
       "    <tr>\n",
       "      <th>3</th>\n",
       "      <td>NaN</td>\n",
       "      <td>1</td>\n",
       "      <td>1501601200</td>\n",
       "      <td>1501601200</td>\n",
       "      <td>20170801</td>\n",
       "      <td>{'visits': 1, 'hits': 1, 'pageviews': 1, 'time...</td>\n",
       "      <td>{'referralPath': '/analytics/web/', 'campaign'...</td>\n",
       "      <td>{'browser': 'Firefox', 'browserVersion': 'not ...</td>\n",
       "      <td>{'continent': 'Americas', 'subContinent': 'Nor...</td>\n",
       "      <td>[{'index': 4, 'value': 'North America'}]</td>\n",
       "      <td>[{'hitNumber': 1, 'time': 0, 'hour': 8, 'minut...</td>\n",
       "      <td>9397809171349480379</td>\n",
       "      <td>None</td>\n",
       "      <td>None</td>\n",
       "      <td>Referral</td>\n",
       "      <td>Not Socially Engaged</td>\n",
       "    </tr>\n",
       "    <tr>\n",
       "      <th>4</th>\n",
       "      <td>NaN</td>\n",
       "      <td>1</td>\n",
       "      <td>1501615525</td>\n",
       "      <td>1501615525</td>\n",
       "      <td>20170801</td>\n",
       "      <td>{'visits': 1, 'hits': 1, 'pageviews': 1, 'time...</td>\n",
       "      <td>{'referralPath': '/analytics/web/', 'campaign'...</td>\n",
       "      <td>{'browser': 'Chrome', 'browserVersion': 'not a...</td>\n",
       "      <td>{'continent': 'Americas', 'subContinent': 'Nor...</td>\n",
       "      <td>[{'index': 4, 'value': 'North America'}]</td>\n",
       "      <td>[{'hitNumber': 1, 'time': 0, 'hour': 12, 'minu...</td>\n",
       "      <td>6089902943184578335</td>\n",
       "      <td>None</td>\n",
       "      <td>None</td>\n",
       "      <td>Referral</td>\n",
       "      <td>Not Socially Engaged</td>\n",
       "    </tr>\n",
       "  </tbody>\n",
       "</table>\n",
       "</div>"
      ],
      "text/plain": [
       "   visitorId  visitNumber     visitId  visitStartTime      date  \\\n",
       "0        NaN            1  1501591568      1501591568  20170801   \n",
       "1        NaN            2  1501589647      1501589647  20170801   \n",
       "2        NaN            1  1501616621      1501616621  20170801   \n",
       "3        NaN            1  1501601200      1501601200  20170801   \n",
       "4        NaN            1  1501615525      1501615525  20170801   \n",
       "\n",
       "                                              totals  \\\n",
       "0  {'visits': 1, 'hits': 1, 'pageviews': 1, 'time...   \n",
       "1  {'visits': 1, 'hits': 1, 'pageviews': 1, 'time...   \n",
       "2  {'visits': 1, 'hits': 1, 'pageviews': 1, 'time...   \n",
       "3  {'visits': 1, 'hits': 1, 'pageviews': 1, 'time...   \n",
       "4  {'visits': 1, 'hits': 1, 'pageviews': 1, 'time...   \n",
       "\n",
       "                                       trafficSource  \\\n",
       "0  {'referralPath': None, 'campaign': '(not set)'...   \n",
       "1  {'referralPath': '/analytics/web/', 'campaign'...   \n",
       "2  {'referralPath': '/analytics/web/', 'campaign'...   \n",
       "3  {'referralPath': '/analytics/web/', 'campaign'...   \n",
       "4  {'referralPath': '/analytics/web/', 'campaign'...   \n",
       "\n",
       "                                              device  \\\n",
       "0  {'browser': 'Chrome', 'browserVersion': 'not a...   \n",
       "1  {'browser': 'Chrome', 'browserVersion': 'not a...   \n",
       "2  {'browser': 'Chrome', 'browserVersion': 'not a...   \n",
       "3  {'browser': 'Firefox', 'browserVersion': 'not ...   \n",
       "4  {'browser': 'Chrome', 'browserVersion': 'not a...   \n",
       "\n",
       "                                          geoNetwork  \\\n",
       "0  {'continent': 'Europe', 'subContinent': 'South...   \n",
       "1  {'continent': 'Asia', 'subContinent': 'Souther...   \n",
       "2  {'continent': 'Europe', 'subContinent': 'North...   \n",
       "3  {'continent': 'Americas', 'subContinent': 'Nor...   \n",
       "4  {'continent': 'Americas', 'subContinent': 'Nor...   \n",
       "\n",
       "                           customDimensions  \\\n",
       "0                                        []   \n",
       "1           [{'index': 4, 'value': 'APAC'}]   \n",
       "2           [{'index': 4, 'value': 'EMEA'}]   \n",
       "3  [{'index': 4, 'value': 'North America'}]   \n",
       "4  [{'index': 4, 'value': 'North America'}]   \n",
       "\n",
       "                                                hits        fullVisitorId  \\\n",
       "0  [{'hitNumber': 1, 'time': 0, 'hour': 5, 'minut...  3418334011779872055   \n",
       "1  [{'hitNumber': 1, 'time': 0, 'hour': 5, 'minut...  2474397855041322408   \n",
       "2  [{'hitNumber': 1, 'time': 0, 'hour': 12, 'minu...  5870462820713110108   \n",
       "3  [{'hitNumber': 1, 'time': 0, 'hour': 8, 'minut...  9397809171349480379   \n",
       "4  [{'hitNumber': 1, 'time': 0, 'hour': 12, 'minu...  6089902943184578335   \n",
       "\n",
       "  userId clientId channelGrouping  socialEngagementType  \n",
       "0   None     None  Organic Search  Not Socially Engaged  \n",
       "1   None     None        Referral  Not Socially Engaged  \n",
       "2   None     None        Referral  Not Socially Engaged  \n",
       "3   None     None        Referral  Not Socially Engaged  \n",
       "4   None     None        Referral  Not Socially Engaged  "
      ]
     },
     "execution_count": 1,
     "metadata": {},
     "output_type": "execute_result"
    }
   ],
   "source": [
    "from google.cloud import bigquery\n",
    "\n",
    "# Create a \"Client\" object\n",
    "client = bigquery.Client()\n",
    "\n",
    "# Construct a reference to the \"google_analytics_sample\" dataset\n",
    "dataset_ref = client.dataset(\"google_analytics_sample\", project=\"bigquery-public-data\")\n",
    "\n",
    "# Construct a reference to the \"ga_sessions_20170801\" table\n",
    "table_ref = dataset_ref.table(\"ga_sessions_20170801\")\n",
    "\n",
    "# API request - fetch the table\n",
    "table = client.get_table(table_ref)\n",
    "\n",
    "# Preview the first five lines of the table\n",
    "client.list_rows(table, max_results=5).to_dataframe()"
   ]
  },
  {
   "cell_type": "markdown",
   "id": "54ea7e00",
   "metadata": {
    "papermill": {
     "duration": 0.003415,
     "end_time": "2023-04-20T18:14:16.528151",
     "exception": false,
     "start_time": "2023-04-20T18:14:16.524736",
     "status": "completed"
    },
    "tags": []
   },
   "source": [
    "For a description of each field, refer to this [data dictionary](https://support.google.com/analytics/answer/3437719?hl=en).\n",
    "\n",
    "The table has many nested fields, which you can verify by looking at either the [data dictionary](https://support.google.com/analytics/answer/3437719?hl=en) (_hint: search for appearances of 'RECORD' on the page_) or the table preview above.\n",
    "\n",
    "In our first query against this table, we'll work with the \"totals\" and \"device\" columns. "
   ]
  },
  {
   "cell_type": "code",
   "execution_count": 2,
   "id": "dc81cc2f",
   "metadata": {
    "_kg_hide-input": true,
    "execution": {
     "iopub.execute_input": "2023-04-20T18:14:16.537604Z",
     "iopub.status.busy": "2023-04-20T18:14:16.536592Z",
     "iopub.status.idle": "2023-04-20T18:14:16.544684Z",
     "shell.execute_reply": "2023-04-20T18:14:16.543681Z"
    },
    "papermill": {
     "duration": 0.015439,
     "end_time": "2023-04-20T18:14:16.547100",
     "exception": false,
     "start_time": "2023-04-20T18:14:16.531661",
     "status": "completed"
    },
    "tags": []
   },
   "outputs": [
    {
     "name": "stdout",
     "output_type": "stream",
     "text": [
      "SCHEMA field for the 'totals' column:\n",
      "\n",
      "SchemaField('totals', 'RECORD', 'NULLABLE', None, (SchemaField('visits', 'INTEGER', 'NULLABLE', None, (), None), SchemaField('hits', 'INTEGER', 'NULLABLE', None, (), None), SchemaField('pageviews', 'INTEGER', 'NULLABLE', None, (), None), SchemaField('timeOnSite', 'INTEGER', 'NULLABLE', None, (), None), SchemaField('bounces', 'INTEGER', 'NULLABLE', None, (), None), SchemaField('transactions', 'INTEGER', 'NULLABLE', None, (), None), SchemaField('transactionRevenue', 'INTEGER', 'NULLABLE', None, (), None), SchemaField('newVisits', 'INTEGER', 'NULLABLE', None, (), None), SchemaField('screenviews', 'INTEGER', 'NULLABLE', None, (), None), SchemaField('uniqueScreenviews', 'INTEGER', 'NULLABLE', None, (), None), SchemaField('timeOnScreen', 'INTEGER', 'NULLABLE', None, (), None), SchemaField('totalTransactionRevenue', 'INTEGER', 'NULLABLE', None, (), None), SchemaField('sessionQualityDim', 'INTEGER', 'NULLABLE', None, (), None)), None)\n",
      "\n",
      "SCHEMA field for the 'device' column:\n",
      "\n",
      "SchemaField('device', 'RECORD', 'NULLABLE', None, (SchemaField('browser', 'STRING', 'NULLABLE', None, (), None), SchemaField('browserVersion', 'STRING', 'NULLABLE', None, (), None), SchemaField('browserSize', 'STRING', 'NULLABLE', None, (), None), SchemaField('operatingSystem', 'STRING', 'NULLABLE', None, (), None), SchemaField('operatingSystemVersion', 'STRING', 'NULLABLE', None, (), None), SchemaField('isMobile', 'BOOLEAN', 'NULLABLE', None, (), None), SchemaField('mobileDeviceBranding', 'STRING', 'NULLABLE', None, (), None), SchemaField('mobileDeviceModel', 'STRING', 'NULLABLE', None, (), None), SchemaField('mobileInputSelector', 'STRING', 'NULLABLE', None, (), None), SchemaField('mobileDeviceInfo', 'STRING', 'NULLABLE', None, (), None), SchemaField('mobileDeviceMarketingName', 'STRING', 'NULLABLE', None, (), None), SchemaField('flashVersion', 'STRING', 'NULLABLE', None, (), None), SchemaField('javaEnabled', 'BOOLEAN', 'NULLABLE', None, (), None), SchemaField('language', 'STRING', 'NULLABLE', None, (), None), SchemaField('screenColors', 'STRING', 'NULLABLE', None, (), None), SchemaField('screenResolution', 'STRING', 'NULLABLE', None, (), None), SchemaField('deviceCategory', 'STRING', 'NULLABLE', None, (), None)), None)\n"
     ]
    }
   ],
   "source": [
    "print(\"SCHEMA field for the 'totals' column:\\n\")\n",
    "print(table.schema[5])\n",
    "\n",
    "print(\"\\nSCHEMA field for the 'device' column:\\n\")\n",
    "print(table.schema[7])"
   ]
  },
  {
   "cell_type": "markdown",
   "id": "ff6a1c90",
   "metadata": {
    "papermill": {
     "duration": 0.003452,
     "end_time": "2023-04-20T18:14:16.554510",
     "exception": false,
     "start_time": "2023-04-20T18:14:16.551058",
     "status": "completed"
    },
    "tags": []
   },
   "source": [
    "We refer to the \"browser\" field (which is nested in the \"device\" column) and the \"transactions\" field (which is nested inside the \"totals\" column) as `device.browser` and `totals.transactions` in the query below:"
   ]
  },
  {
   "cell_type": "code",
   "execution_count": 3,
   "id": "3f370d18",
   "metadata": {
    "execution": {
     "iopub.execute_input": "2023-04-20T18:14:16.564424Z",
     "iopub.status.busy": "2023-04-20T18:14:16.563346Z",
     "iopub.status.idle": "2023-04-20T18:14:18.099574Z",
     "shell.execute_reply": "2023-04-20T18:14:18.098207Z"
    },
    "papermill": {
     "duration": 1.544162,
     "end_time": "2023-04-20T18:14:18.102371",
     "exception": false,
     "start_time": "2023-04-20T18:14:16.558209",
     "status": "completed"
    },
    "tags": []
   },
   "outputs": [
    {
     "name": "stderr",
     "output_type": "stream",
     "text": [
      "/opt/conda/lib/python3.7/site-packages/google/cloud/bigquery/client.py:440: UserWarning: Cannot create BigQuery Storage client, the dependency google-cloud-bigquery-storage is not installed.\n",
      "  \"Cannot create BigQuery Storage client, the dependency \"\n"
     ]
    },
    {
     "data": {
      "text/html": [
       "<div>\n",
       "<style scoped>\n",
       "    .dataframe tbody tr th:only-of-type {\n",
       "        vertical-align: middle;\n",
       "    }\n",
       "\n",
       "    .dataframe tbody tr th {\n",
       "        vertical-align: top;\n",
       "    }\n",
       "\n",
       "    .dataframe thead th {\n",
       "        text-align: right;\n",
       "    }\n",
       "</style>\n",
       "<table border=\"1\" class=\"dataframe\">\n",
       "  <thead>\n",
       "    <tr style=\"text-align: right;\">\n",
       "      <th></th>\n",
       "      <th>device_browser</th>\n",
       "      <th>total_transactions</th>\n",
       "    </tr>\n",
       "  </thead>\n",
       "  <tbody>\n",
       "    <tr>\n",
       "      <th>0</th>\n",
       "      <td>Chrome</td>\n",
       "      <td>41.0</td>\n",
       "    </tr>\n",
       "    <tr>\n",
       "      <th>1</th>\n",
       "      <td>Safari</td>\n",
       "      <td>3.0</td>\n",
       "    </tr>\n",
       "    <tr>\n",
       "      <th>2</th>\n",
       "      <td>Firefox</td>\n",
       "      <td>1.0</td>\n",
       "    </tr>\n",
       "    <tr>\n",
       "      <th>3</th>\n",
       "      <td>Edge</td>\n",
       "      <td>NaN</td>\n",
       "    </tr>\n",
       "    <tr>\n",
       "      <th>4</th>\n",
       "      <td>Coc Coc</td>\n",
       "      <td>NaN</td>\n",
       "    </tr>\n",
       "  </tbody>\n",
       "</table>\n",
       "</div>"
      ],
      "text/plain": [
       "  device_browser  total_transactions\n",
       "0         Chrome                41.0\n",
       "1         Safari                 3.0\n",
       "2        Firefox                 1.0\n",
       "3           Edge                 NaN\n",
       "4        Coc Coc                 NaN"
      ]
     },
     "execution_count": 3,
     "metadata": {},
     "output_type": "execute_result"
    }
   ],
   "source": [
    "# Query to count the number of transactions per browser\n",
    "query = \"\"\"\n",
    "        SELECT device.browser AS device_browser,\n",
    "            SUM(totals.transactions) as total_transactions\n",
    "        FROM `bigquery-public-data.google_analytics_sample.ga_sessions_20170801`\n",
    "        GROUP BY device_browser\n",
    "        ORDER BY total_transactions DESC\n",
    "        \"\"\"\n",
    "\n",
    "# Run the query, and return a pandas DataFrame\n",
    "result = client.query(query).result().to_dataframe()\n",
    "result.head()"
   ]
  },
  {
   "cell_type": "markdown",
   "id": "76ba1fc2",
   "metadata": {
    "papermill": {
     "duration": 0.003904,
     "end_time": "2023-04-20T18:14:18.110512",
     "exception": false,
     "start_time": "2023-04-20T18:14:18.106608",
     "status": "completed"
    },
    "tags": []
   },
   "source": [
    "By storing the information in the \"device\" and \"totals\" columns as STRUCTs (as opposed to separate tables), we avoid expensive JOINs.  This increases performance and keeps us from having to worry about JOIN keys (and which tables have the exact data we need).\n",
    "\n",
    "Now we'll work with the \"hits\" column as an example of data that is both nested and repeated. Since:\n",
    "- \"hits\" is a STRUCT (contains nested data) and is repeated,\n",
    "- \"hitNumber\", \"page\", and \"type\" are all nested inside the \"hits\" column, and\n",
    "- \"pagePath\" is nested inside the \"page\" field,\n",
    "\n",
    "we can query these fields with the following syntax:"
   ]
  },
  {
   "cell_type": "code",
   "execution_count": 4,
   "id": "019d871f",
   "metadata": {
    "execution": {
     "iopub.execute_input": "2023-04-20T18:14:18.121015Z",
     "iopub.status.busy": "2023-04-20T18:14:18.120261Z",
     "iopub.status.idle": "2023-04-20T18:14:19.595263Z",
     "shell.execute_reply": "2023-04-20T18:14:19.593934Z"
    },
    "papermill": {
     "duration": 1.483817,
     "end_time": "2023-04-20T18:14:19.598474",
     "exception": false,
     "start_time": "2023-04-20T18:14:18.114657",
     "status": "completed"
    },
    "tags": []
   },
   "outputs": [
    {
     "name": "stderr",
     "output_type": "stream",
     "text": [
      "/opt/conda/lib/python3.7/site-packages/google/cloud/bigquery/client.py:440: UserWarning: Cannot create BigQuery Storage client, the dependency google-cloud-bigquery-storage is not installed.\n",
      "  \"Cannot create BigQuery Storage client, the dependency \"\n"
     ]
    },
    {
     "data": {
      "text/html": [
       "<div>\n",
       "<style scoped>\n",
       "    .dataframe tbody tr th:only-of-type {\n",
       "        vertical-align: middle;\n",
       "    }\n",
       "\n",
       "    .dataframe tbody tr th {\n",
       "        vertical-align: top;\n",
       "    }\n",
       "\n",
       "    .dataframe thead th {\n",
       "        text-align: right;\n",
       "    }\n",
       "</style>\n",
       "<table border=\"1\" class=\"dataframe\">\n",
       "  <thead>\n",
       "    <tr style=\"text-align: right;\">\n",
       "      <th></th>\n",
       "      <th>path</th>\n",
       "      <th>counts</th>\n",
       "    </tr>\n",
       "  </thead>\n",
       "  <tbody>\n",
       "    <tr>\n",
       "      <th>0</th>\n",
       "      <td>/home</td>\n",
       "      <td>1257</td>\n",
       "    </tr>\n",
       "    <tr>\n",
       "      <th>1</th>\n",
       "      <td>/google+redesign/shop+by+brand/youtube</td>\n",
       "      <td>587</td>\n",
       "    </tr>\n",
       "    <tr>\n",
       "      <th>2</th>\n",
       "      <td>/google+redesign/apparel/mens/mens+t+shirts</td>\n",
       "      <td>117</td>\n",
       "    </tr>\n",
       "    <tr>\n",
       "      <th>3</th>\n",
       "      <td>/signin.html</td>\n",
       "      <td>78</td>\n",
       "    </tr>\n",
       "    <tr>\n",
       "      <th>4</th>\n",
       "      <td>/basket.html</td>\n",
       "      <td>35</td>\n",
       "    </tr>\n",
       "  </tbody>\n",
       "</table>\n",
       "</div>"
      ],
      "text/plain": [
       "                                          path  counts\n",
       "0                                        /home    1257\n",
       "1       /google+redesign/shop+by+brand/youtube     587\n",
       "2  /google+redesign/apparel/mens/mens+t+shirts     117\n",
       "3                                 /signin.html      78\n",
       "4                                 /basket.html      35"
      ]
     },
     "execution_count": 4,
     "metadata": {},
     "output_type": "execute_result"
    }
   ],
   "source": [
    "# Query to determine most popular landing point on the website\n",
    "query = \"\"\"\n",
    "        SELECT hits.page.pagePath as path,\n",
    "            COUNT(hits.page.pagePath) as counts\n",
    "        FROM `bigquery-public-data.google_analytics_sample.ga_sessions_20170801`, \n",
    "            UNNEST(hits) as hits\n",
    "        WHERE hits.type=\"PAGE\" and hits.hitNumber=1\n",
    "        GROUP BY path\n",
    "        ORDER BY counts DESC\n",
    "        \"\"\"\n",
    "\n",
    "# Run the query, and return a pandas DataFrame\n",
    "result = client.query(query).result().to_dataframe()\n",
    "result.head()"
   ]
  },
  {
   "cell_type": "markdown",
   "id": "0c3e18f5",
   "metadata": {
    "papermill": {
     "duration": 0.004135,
     "end_time": "2023-04-20T18:14:19.607401",
     "exception": false,
     "start_time": "2023-04-20T18:14:19.603266",
     "status": "completed"
    },
    "tags": []
   },
   "source": [
    "In this case, most users land on the website through the `\"/home\"` page.\n",
    "\n",
    "# Your turn \n",
    "\n",
    "Use what you've learned to **[query complex datatypes](https://www.kaggle.com/kernels/fork/5045823)** in a real-world dataset."
   ]
  },
  {
   "cell_type": "markdown",
   "id": "223c82fe",
   "metadata": {
    "papermill": {
     "duration": 0.003979,
     "end_time": "2023-04-20T18:14:19.615801",
     "exception": false,
     "start_time": "2023-04-20T18:14:19.611822",
     "status": "completed"
    },
    "tags": []
   },
   "source": [
    "---\n",
    "\n",
    "\n",
    "\n",
    "\n",
    "*Have questions or comments? Visit the [course discussion forum](https://www.kaggle.com/learn/advanced-sql/discussion) to chat with other learners.*"
   ]
  }
 ],
 "metadata": {
  "kernelspec": {
   "display_name": "Python 3 (ipykernel)",
   "language": "python",
   "name": "python3"
  },
  "language_info": {
   "codemirror_mode": {
    "name": "ipython",
    "version": 3
   },
   "file_extension": ".py",
   "mimetype": "text/x-python",
   "name": "python",
   "nbconvert_exporter": "python",
   "pygments_lexer": "ipython3",
   "version": "3.9.1"
  },
  "papermill": {
   "default_parameters": {},
   "duration": 16.402055,
   "end_time": "2023-04-20T18:14:20.342828",
   "environment_variables": {},
   "exception": null,
   "input_path": "__notebook__.ipynb",
   "output_path": "__notebook__.ipynb",
   "parameters": {},
   "start_time": "2023-04-20T18:14:03.940773",
   "version": "2.4.0"
  }
 },
 "nbformat": 4,
 "nbformat_minor": 5
}
