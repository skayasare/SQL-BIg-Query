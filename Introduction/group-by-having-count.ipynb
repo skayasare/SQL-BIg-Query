{
 "cells": [
  {
   "cell_type": "markdown",
   "id": "f3126fb3",
   "metadata": {
    "papermill": {
     "duration": 0.004732,
     "end_time": "2023-04-20T18:20:24.111808",
     "exception": false,
     "start_time": "2023-04-20T18:20:24.107076",
     "status": "completed"
    },
    "tags": []
   },
   "source": [
    "# Introduction\n",
    "\n",
    "Now that you can select raw data, you're ready to learn how to group your data and count things within those groups. This can help you answer questions like: \n",
    "\n",
    "* How many of each kind of fruit has our store sold?\n",
    "* How many species of animal has the vet office treated?\n",
    "\n",
    "To do this, you'll learn about three new techniques: **GROUP BY**, **HAVING** and **COUNT()**. Once again, we'll use this made-up table of information on pets. \n",
    "\n",
    "![](https://storage.googleapis.com/kaggle-media/learn/images/fI5Pvvp.png)\n",
    "\n",
    "# COUNT()\n",
    "\n",
    "**COUNT()**, as you may have guessed from the name, returns a count of things. If you pass it the name of a column, it will return the number of entries in that column. \n",
    "\n",
    "For instance, if we **SELECT** the **COUNT()** of the `ID` column in the `pets` table, it will return 4, because there are 4 ID's in the table.\n",
    "\n",
    "![](https://storage.googleapis.com/kaggle-media/learn/images/Eu5HkXq.png)\n",
    "\n",
    "**COUNT()** is an example of an **aggregate function**, which takes many values and returns one. (Other examples of aggregate functions include **SUM()**, **AVG()**, **MIN()**, and **MAX()**.)  As you'll notice in the picture above, aggregate functions introduce strange column names (like `f0__`).  Later in this tutorial, you'll learn how to change the name to something more descriptive.\n",
    " \n",
    "# GROUP BY\n",
    "\n",
    "\n",
    "**GROUP BY** takes the name of one or more columns, and treats all rows with the same value in that column as a single group when you apply aggregate functions like **COUNT()**.\n",
    "\n",
    "For example, say we want to know how many of each type of animal we have in the `pets` table. We can use **GROUP BY** to group together rows that have the same value in the `Animal` column, while using **COUNT()** to find out how many ID's we have in each group. \n",
    "\n",
    "![](https://storage.googleapis.com/kaggle-media/learn/images/tqE9Eh8.png)\n",
    "\n",
    "It returns a table with three rows (one for each distinct animal).  We can see that the `pets` table contains 1 rabbit, 1 dog, and 2 cats.\n",
    "\n",
    "# GROUP BY ... HAVING\n",
    "\n",
    "**HAVING** is used in combination with **GROUP BY** to ignore groups that don't meet certain criteria. \n",
    "\n",
    "So this query, for example, will only include groups that have more than one ID in them.\n",
    "\n",
    "![](https://storage.googleapis.com/kaggle-media/learn/images/2ImXfHQ.png)\n",
    "\n",
    "Since only one group meets the specified criterion, the query will return a table with only one row. \n",
    "\n",
    "# Example: Which Hacker News comments generated the most discussion?\n",
    "\n",
    "Ready to see an example on a real dataset? The Hacker News dataset contains information on stories and comments from the Hacker News social networking site. \n",
    "\n",
    "We'll work with the `comments` table and begin by printing the first few rows.  (_We have hidden the corresponding code. To take a peek, click on the \"Code\" button below._)"
   ]
  },
  {
   "cell_type": "code",
   "execution_count": 1,
   "id": "e6975fd6",
   "metadata": {
    "_kg_hide-input": true,
    "execution": {
     "iopub.execute_input": "2023-04-20T18:20:24.121503Z",
     "iopub.status.busy": "2023-04-20T18:20:24.121102Z",
     "iopub.status.idle": "2023-04-20T18:20:25.272022Z",
     "shell.execute_reply": "2023-04-20T18:20:25.270704Z"
    },
    "papermill": {
     "duration": 1.159019,
     "end_time": "2023-04-20T18:20:25.274792",
     "exception": false,
     "start_time": "2023-04-20T18:20:24.115773",
     "status": "completed"
    },
    "tags": []
   },
   "outputs": [
    {
     "name": "stdout",
     "output_type": "stream",
     "text": [
      "Using Kaggle's public dataset BigQuery integration.\n"
     ]
    },
    {
     "name": "stderr",
     "output_type": "stream",
     "text": [
      "/opt/conda/lib/python3.7/site-packages/ipykernel_launcher.py:19: UserWarning: Cannot use bqstorage_client if max_results is set, reverting to fetching data with the tabledata.list endpoint.\n"
     ]
    },
    {
     "data": {
      "text/html": [
       "<div>\n",
       "<style scoped>\n",
       "    .dataframe tbody tr th:only-of-type {\n",
       "        vertical-align: middle;\n",
       "    }\n",
       "\n",
       "    .dataframe tbody tr th {\n",
       "        vertical-align: top;\n",
       "    }\n",
       "\n",
       "    .dataframe thead th {\n",
       "        text-align: right;\n",
       "    }\n",
       "</style>\n",
       "<table border=\"1\" class=\"dataframe\">\n",
       "  <thead>\n",
       "    <tr style=\"text-align: right;\">\n",
       "      <th></th>\n",
       "      <th>id</th>\n",
       "      <th>by</th>\n",
       "      <th>author</th>\n",
       "      <th>time</th>\n",
       "      <th>time_ts</th>\n",
       "      <th>text</th>\n",
       "      <th>parent</th>\n",
       "      <th>deleted</th>\n",
       "      <th>dead</th>\n",
       "      <th>ranking</th>\n",
       "    </tr>\n",
       "  </thead>\n",
       "  <tbody>\n",
       "    <tr>\n",
       "      <th>0</th>\n",
       "      <td>9734136</td>\n",
       "      <td>None</td>\n",
       "      <td>None</td>\n",
       "      <td>1434565400</td>\n",
       "      <td>2015-06-17 18:23:20+00:00</td>\n",
       "      <td>None</td>\n",
       "      <td>9733698</td>\n",
       "      <td>True</td>\n",
       "      <td>None</td>\n",
       "      <td>0</td>\n",
       "    </tr>\n",
       "    <tr>\n",
       "      <th>1</th>\n",
       "      <td>4921158</td>\n",
       "      <td>None</td>\n",
       "      <td>None</td>\n",
       "      <td>1355496966</td>\n",
       "      <td>2012-12-14 14:56:06+00:00</td>\n",
       "      <td>None</td>\n",
       "      <td>4921100</td>\n",
       "      <td>True</td>\n",
       "      <td>None</td>\n",
       "      <td>0</td>\n",
       "    </tr>\n",
       "    <tr>\n",
       "      <th>2</th>\n",
       "      <td>7500568</td>\n",
       "      <td>None</td>\n",
       "      <td>None</td>\n",
       "      <td>1396261158</td>\n",
       "      <td>2014-03-31 10:19:18+00:00</td>\n",
       "      <td>None</td>\n",
       "      <td>7499385</td>\n",
       "      <td>True</td>\n",
       "      <td>None</td>\n",
       "      <td>0</td>\n",
       "    </tr>\n",
       "    <tr>\n",
       "      <th>3</th>\n",
       "      <td>8909635</td>\n",
       "      <td>None</td>\n",
       "      <td>None</td>\n",
       "      <td>1421627275</td>\n",
       "      <td>2015-01-19 00:27:55+00:00</td>\n",
       "      <td>None</td>\n",
       "      <td>8901135</td>\n",
       "      <td>True</td>\n",
       "      <td>None</td>\n",
       "      <td>0</td>\n",
       "    </tr>\n",
       "    <tr>\n",
       "      <th>4</th>\n",
       "      <td>9256463</td>\n",
       "      <td>None</td>\n",
       "      <td>None</td>\n",
       "      <td>1427204705</td>\n",
       "      <td>2015-03-24 13:45:05+00:00</td>\n",
       "      <td>None</td>\n",
       "      <td>9256346</td>\n",
       "      <td>True</td>\n",
       "      <td>None</td>\n",
       "      <td>0</td>\n",
       "    </tr>\n",
       "  </tbody>\n",
       "</table>\n",
       "</div>"
      ],
      "text/plain": [
       "        id    by author        time                   time_ts  text   parent  \\\n",
       "0  9734136  None   None  1434565400 2015-06-17 18:23:20+00:00  None  9733698   \n",
       "1  4921158  None   None  1355496966 2012-12-14 14:56:06+00:00  None  4921100   \n",
       "2  7500568  None   None  1396261158 2014-03-31 10:19:18+00:00  None  7499385   \n",
       "3  8909635  None   None  1421627275 2015-01-19 00:27:55+00:00  None  8901135   \n",
       "4  9256463  None   None  1427204705 2015-03-24 13:45:05+00:00  None  9256346   \n",
       "\n",
       "   deleted  dead  ranking  \n",
       "0     True  None        0  \n",
       "1     True  None        0  \n",
       "2     True  None        0  \n",
       "3     True  None        0  \n",
       "4     True  None        0  "
      ]
     },
     "execution_count": 1,
     "metadata": {},
     "output_type": "execute_result"
    }
   ],
   "source": [
    "\n",
    "from google.cloud import bigquery\n",
    "\n",
    "# Create a \"Client\" object\n",
    "client = bigquery.Client()\n",
    "\n",
    "# Construct a reference to the \"hacker_news\" dataset\n",
    "dataset_ref = client.dataset(\"hacker_news\", project=\"bigquery-public-data\")\n",
    "\n",
    "# API request - fetch the dataset\n",
    "dataset = client.get_dataset(dataset_ref)\n",
    "\n",
    "# Construct a reference to the \"comments\" table\n",
    "table_ref = dataset_ref.table(\"comments\")\n",
    "\n",
    "# API request - fetch the table\n",
    "table = client.get_table(table_ref)\n",
    "\n",
    "# Preview the first five lines of the \"comments\" table\n",
    "client.list_rows(table, max_results=5).to_dataframe()"
   ]
  },
  {
   "cell_type": "markdown",
   "id": "78f340fd",
   "metadata": {
    "papermill": {
     "duration": 0.003732,
     "end_time": "2023-04-20T18:20:25.282675",
     "exception": false,
     "start_time": "2023-04-20T18:20:25.278943",
     "status": "completed"
    },
    "tags": []
   },
   "source": [
    "Let's use the table to see which comments generated the most replies.  Since:\n",
    "- the `parent` column indicates the comment that was replied to, and \n",
    "- the `id` column has the unique ID used to identify each comment, \n",
    "\n",
    "we can **GROUP BY** the `parent` column and **COUNT()** the `id` column in order to figure out the number of comments that were made as responses to a specific comment.  (_This might not make sense immediately -- take your time here to ensure that everything is clear!_)\n",
    "\n",
    "Furthermore, since we're only interested in popular comments, we'll look at comments with more than ten replies.  So, we'll only return groups **HAVING** more than ten ID's."
   ]
  },
  {
   "cell_type": "code",
   "execution_count": 2,
   "id": "3de3b2b5",
   "metadata": {
    "execution": {
     "iopub.execute_input": "2023-04-20T18:20:25.293630Z",
     "iopub.status.busy": "2023-04-20T18:20:25.292854Z",
     "iopub.status.idle": "2023-04-20T18:20:25.298547Z",
     "shell.execute_reply": "2023-04-20T18:20:25.297557Z"
    },
    "papermill": {
     "duration": 0.014419,
     "end_time": "2023-04-20T18:20:25.301163",
     "exception": false,
     "start_time": "2023-04-20T18:20:25.286744",
     "status": "completed"
    },
    "tags": []
   },
   "outputs": [],
   "source": [
    "# Query to select comments that received more than 10 replies\n",
    "query_popular = \"\"\"\n",
    "                SELECT parent, COUNT(id)\n",
    "                FROM `bigquery-public-data.hacker_news.comments`\n",
    "                GROUP BY parent\n",
    "                HAVING COUNT(id) > 10\n",
    "                \"\"\""
   ]
  },
  {
   "cell_type": "markdown",
   "id": "b6611cd7",
   "metadata": {
    "papermill": {
     "duration": 0.004148,
     "end_time": "2023-04-20T18:20:25.309547",
     "exception": false,
     "start_time": "2023-04-20T18:20:25.305399",
     "status": "completed"
    },
    "tags": []
   },
   "source": [
    "Now that our query is ready, let's run it and store the results in a pandas DataFrame: "
   ]
  },
  {
   "cell_type": "code",
   "execution_count": 3,
   "id": "76ef7b49",
   "metadata": {
    "execution": {
     "iopub.execute_input": "2023-04-20T18:20:25.320287Z",
     "iopub.status.busy": "2023-04-20T18:20:25.319882Z",
     "iopub.status.idle": "2023-04-20T18:20:29.338615Z",
     "shell.execute_reply": "2023-04-20T18:20:29.337109Z"
    },
    "papermill": {
     "duration": 4.027466,
     "end_time": "2023-04-20T18:20:29.341632",
     "exception": false,
     "start_time": "2023-04-20T18:20:25.314166",
     "status": "completed"
    },
    "tags": []
   },
   "outputs": [
    {
     "name": "stderr",
     "output_type": "stream",
     "text": [
      "/opt/conda/lib/python3.7/site-packages/google/cloud/bigquery/client.py:440: UserWarning: Cannot create BigQuery Storage client, the dependency google-cloud-bigquery-storage is not installed.\n",
      "  \"Cannot create BigQuery Storage client, the dependency \"\n"
     ]
    },
    {
     "data": {
      "text/html": [
       "<div>\n",
       "<style scoped>\n",
       "    .dataframe tbody tr th:only-of-type {\n",
       "        vertical-align: middle;\n",
       "    }\n",
       "\n",
       "    .dataframe tbody tr th {\n",
       "        vertical-align: top;\n",
       "    }\n",
       "\n",
       "    .dataframe thead th {\n",
       "        text-align: right;\n",
       "    }\n",
       "</style>\n",
       "<table border=\"1\" class=\"dataframe\">\n",
       "  <thead>\n",
       "    <tr style=\"text-align: right;\">\n",
       "      <th></th>\n",
       "      <th>parent</th>\n",
       "      <th>f0_</th>\n",
       "    </tr>\n",
       "  </thead>\n",
       "  <tbody>\n",
       "    <tr>\n",
       "      <th>0</th>\n",
       "      <td>5463210</td>\n",
       "      <td>55</td>\n",
       "    </tr>\n",
       "    <tr>\n",
       "      <th>1</th>\n",
       "      <td>8232019</td>\n",
       "      <td>39</td>\n",
       "    </tr>\n",
       "    <tr>\n",
       "      <th>2</th>\n",
       "      <td>4821689</td>\n",
       "      <td>45</td>\n",
       "    </tr>\n",
       "    <tr>\n",
       "      <th>3</th>\n",
       "      <td>5865935</td>\n",
       "      <td>38</td>\n",
       "    </tr>\n",
       "    <tr>\n",
       "      <th>4</th>\n",
       "      <td>8296879</td>\n",
       "      <td>53</td>\n",
       "    </tr>\n",
       "  </tbody>\n",
       "</table>\n",
       "</div>"
      ],
      "text/plain": [
       "    parent  f0_\n",
       "0  5463210   55\n",
       "1  8232019   39\n",
       "2  4821689   45\n",
       "3  5865935   38\n",
       "4  8296879   53"
      ]
     },
     "execution_count": 3,
     "metadata": {},
     "output_type": "execute_result"
    }
   ],
   "source": [
    "# Set up the query (cancel the query if it would use too much of \n",
    "# your quota, with the limit set to 10 GB)\n",
    "safe_config = bigquery.QueryJobConfig(maximum_bytes_billed=10**10)\n",
    "query_job = client.query(query_popular, job_config=safe_config)\n",
    "\n",
    "# API request - run the query, and convert the results to a pandas DataFrame\n",
    "popular_comments = query_job.to_dataframe()\n",
    "\n",
    "# Print the first five rows of the DataFrame\n",
    "popular_comments.head()"
   ]
  },
  {
   "cell_type": "markdown",
   "id": "6d7bba8b",
   "metadata": {
    "papermill": {
     "duration": 0.004371,
     "end_time": "2023-04-20T18:20:29.350705",
     "exception": false,
     "start_time": "2023-04-20T18:20:29.346334",
     "status": "completed"
    },
    "tags": []
   },
   "source": [
    "Each row in the `popular_comments` DataFrame corresponds to a comment that received more than ten replies.  For instance, the comment with ID `801208` received `56` replies.\n",
    "\n",
    "# Aliasing and other improvements\n",
    "\n",
    "A couple hints to make your queries even better:\n",
    "- The column resulting from `COUNT(id)` was called `f0__`. That's not a very descriptive name. You can change the name by adding `AS NumPosts` after you specify the aggregation. This is called **aliasing**, and it will be covered in more detail in an upcoming lesson.\n",
    "- If you are ever unsure what to put inside the **COUNT()** function, you can do `COUNT(1)` to count the rows in each group. Most people find it especially readable, because we know it's not focusing on other columns. It also scans less data than if supplied column names (making it faster and using less of your data access quota).\n",
    "\n",
    "Using these tricks, we can rewrite our query:"
   ]
  },
  {
   "cell_type": "code",
   "execution_count": 4,
   "id": "3e5e6061",
   "metadata": {
    "execution": {
     "iopub.execute_input": "2023-04-20T18:20:29.361287Z",
     "iopub.status.busy": "2023-04-20T18:20:29.360867Z",
     "iopub.status.idle": "2023-04-20T18:20:32.872570Z",
     "shell.execute_reply": "2023-04-20T18:20:32.871090Z"
    },
    "papermill": {
     "duration": 3.520445,
     "end_time": "2023-04-20T18:20:32.875612",
     "exception": false,
     "start_time": "2023-04-20T18:20:29.355167",
     "status": "completed"
    },
    "tags": []
   },
   "outputs": [
    {
     "name": "stderr",
     "output_type": "stream",
     "text": [
      "/opt/conda/lib/python3.7/site-packages/google/cloud/bigquery/client.py:440: UserWarning: Cannot create BigQuery Storage client, the dependency google-cloud-bigquery-storage is not installed.\n",
      "  \"Cannot create BigQuery Storage client, the dependency \"\n"
     ]
    },
    {
     "data": {
      "text/html": [
       "<div>\n",
       "<style scoped>\n",
       "    .dataframe tbody tr th:only-of-type {\n",
       "        vertical-align: middle;\n",
       "    }\n",
       "\n",
       "    .dataframe tbody tr th {\n",
       "        vertical-align: top;\n",
       "    }\n",
       "\n",
       "    .dataframe thead th {\n",
       "        text-align: right;\n",
       "    }\n",
       "</style>\n",
       "<table border=\"1\" class=\"dataframe\">\n",
       "  <thead>\n",
       "    <tr style=\"text-align: right;\">\n",
       "      <th></th>\n",
       "      <th>parent</th>\n",
       "      <th>NumPosts</th>\n",
       "    </tr>\n",
       "  </thead>\n",
       "  <tbody>\n",
       "    <tr>\n",
       "      <th>0</th>\n",
       "      <td>8799572</td>\n",
       "      <td>139</td>\n",
       "    </tr>\n",
       "    <tr>\n",
       "      <th>1</th>\n",
       "      <td>6738893</td>\n",
       "      <td>38</td>\n",
       "    </tr>\n",
       "    <tr>\n",
       "      <th>2</th>\n",
       "      <td>7740226</td>\n",
       "      <td>38</td>\n",
       "    </tr>\n",
       "    <tr>\n",
       "      <th>3</th>\n",
       "      <td>5482178</td>\n",
       "      <td>62</td>\n",
       "    </tr>\n",
       "    <tr>\n",
       "      <th>4</th>\n",
       "      <td>4467603</td>\n",
       "      <td>70</td>\n",
       "    </tr>\n",
       "  </tbody>\n",
       "</table>\n",
       "</div>"
      ],
      "text/plain": [
       "    parent  NumPosts\n",
       "0  8799572       139\n",
       "1  6738893        38\n",
       "2  7740226        38\n",
       "3  5482178        62\n",
       "4  4467603        70"
      ]
     },
     "execution_count": 4,
     "metadata": {},
     "output_type": "execute_result"
    }
   ],
   "source": [
    "# Improved version of earlier query, now with aliasing & improved readability\n",
    "query_improved = \"\"\"\n",
    "                 SELECT parent, COUNT(1) AS NumPosts\n",
    "                 FROM `bigquery-public-data.hacker_news.comments`\n",
    "                 GROUP BY parent\n",
    "                 HAVING COUNT(1) > 10\n",
    "                 \"\"\"\n",
    "\n",
    "safe_config = bigquery.QueryJobConfig(maximum_bytes_billed=10**10)\n",
    "query_job = client.query(query_improved, job_config=safe_config)\n",
    "\n",
    "# API request - run the query, and convert the results to a pandas DataFrame\n",
    "improved_df = query_job.to_dataframe()\n",
    "\n",
    "# Print the first five rows of the DataFrame\n",
    "improved_df.head()"
   ]
  },
  {
   "cell_type": "markdown",
   "id": "aa741cbe",
   "metadata": {
    "papermill": {
     "duration": 0.004338,
     "end_time": "2023-04-20T18:20:32.884825",
     "exception": false,
     "start_time": "2023-04-20T18:20:32.880487",
     "status": "completed"
    },
    "tags": []
   },
   "source": [
    "Now you have the data you want, and it has descriptive names. That's good style.\n",
    "\n",
    "# Note on using **GROUP BY**\n",
    "\n",
    "Note that because it tells SQL how to apply aggregate functions (like **COUNT()**), it doesn't make sense to use **GROUP BY** without an aggregate function.  Similarly, if you have any **GROUP BY** clause, then all variables must be passed to either a\n",
    "1. **GROUP BY** command, or\n",
    "2. an aggregation function.\n",
    "\n",
    "Consider the query below:\n",
    "\n"
   ]
  },
  {
   "cell_type": "code",
   "execution_count": 5,
   "id": "b8916b57",
   "metadata": {
    "execution": {
     "iopub.execute_input": "2023-04-20T18:20:32.896135Z",
     "iopub.status.busy": "2023-04-20T18:20:32.895703Z",
     "iopub.status.idle": "2023-04-20T18:20:32.900959Z",
     "shell.execute_reply": "2023-04-20T18:20:32.899639Z"
    },
    "papermill": {
     "duration": 0.013868,
     "end_time": "2023-04-20T18:20:32.903331",
     "exception": false,
     "start_time": "2023-04-20T18:20:32.889463",
     "status": "completed"
    },
    "tags": []
   },
   "outputs": [],
   "source": [
    "query_good = \"\"\"\n",
    "             SELECT parent, COUNT(id)\n",
    "             FROM `bigquery-public-data.hacker_news.comments`\n",
    "             GROUP BY parent\n",
    "             \"\"\""
   ]
  },
  {
   "cell_type": "markdown",
   "id": "7700870d",
   "metadata": {
    "papermill": {
     "duration": 0.004616,
     "end_time": "2023-04-20T18:20:32.912690",
     "exception": false,
     "start_time": "2023-04-20T18:20:32.908074",
     "status": "completed"
    },
    "tags": []
   },
   "source": [
    "Note that there are two variables: `parent` and `id`. \n",
    "- `parent` was passed to a **GROUP BY** command (in `GROUP BY parent`), and \n",
    "- `id` was passed to an aggregate function (in `COUNT(id)`).\n",
    "\n",
    "And this query won't work, because the `author` column isn't passed to an aggregate function or a **GROUP BY** clause:"
   ]
  },
  {
   "cell_type": "code",
   "execution_count": 6,
   "id": "fc96edbb",
   "metadata": {
    "execution": {
     "iopub.execute_input": "2023-04-20T18:20:32.924763Z",
     "iopub.status.busy": "2023-04-20T18:20:32.924076Z",
     "iopub.status.idle": "2023-04-20T18:20:32.928381Z",
     "shell.execute_reply": "2023-04-20T18:20:32.927418Z"
    },
    "papermill": {
     "duration": 0.014018,
     "end_time": "2023-04-20T18:20:32.931367",
     "exception": false,
     "start_time": "2023-04-20T18:20:32.917349",
     "status": "completed"
    },
    "tags": []
   },
   "outputs": [],
   "source": [
    "query_bad = \"\"\"\n",
    "            SELECT author, parent, COUNT(id)\n",
    "            FROM `bigquery-public-data.hacker_news.comments`\n",
    "            GROUP BY parent\n",
    "            \"\"\""
   ]
  },
  {
   "cell_type": "markdown",
   "id": "899c714e",
   "metadata": {
    "papermill": {
     "duration": 0.00442,
     "end_time": "2023-04-20T18:20:32.940715",
     "exception": false,
     "start_time": "2023-04-20T18:20:32.936295",
     "status": "completed"
    },
    "tags": []
   },
   "source": [
    "If make this error, you'll get the error message `SELECT list expression references column (column's name) which is neither grouped nor aggregated at`.\n",
    "\n",
    "# Your turn\n",
    "\n",
    "These aggregations let you write much more interesting queries. Try it yourself with **[these coding exercises](https://www.kaggle.com/kernels/fork/682058)**."
   ]
  },
  {
   "cell_type": "markdown",
   "id": "d8e3499e",
   "metadata": {
    "papermill": {
     "duration": 0.004394,
     "end_time": "2023-04-20T18:20:32.949825",
     "exception": false,
     "start_time": "2023-04-20T18:20:32.945431",
     "status": "completed"
    },
    "tags": []
   },
   "source": [
    "---\n",
    "\n",
    "\n",
    "\n",
    "\n",
    "*Have questions or comments? Visit the [course discussion forum](https://www.kaggle.com/learn/intro-to-sql/discussion) to chat with other learners.*"
   ]
  }
 ],
 "metadata": {
  "kernelspec": {
   "display_name": "Python 3 (ipykernel)",
   "language": "python",
   "name": "python3"
  },
  "language_info": {
   "codemirror_mode": {
    "name": "ipython",
    "version": 3
   },
   "file_extension": ".py",
   "mimetype": "text/x-python",
   "name": "python",
   "nbconvert_exporter": "python",
   "pygments_lexer": "ipython3",
   "version": "3.9.1"
  },
  "papermill": {
   "default_parameters": {},
   "duration": 20.570196,
   "end_time": "2023-04-20T18:20:33.677023",
   "environment_variables": {},
   "exception": null,
   "input_path": "__notebook__.ipynb",
   "output_path": "__notebook__.ipynb",
   "parameters": {},
   "start_time": "2023-04-20T18:20:13.106827",
   "version": "2.4.0"
  }
 },
 "nbformat": 4,
 "nbformat_minor": 5
}
